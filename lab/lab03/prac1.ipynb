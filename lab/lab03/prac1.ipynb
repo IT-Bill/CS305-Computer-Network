{
 "cells": [
  {
   "cell_type": "code",
   "execution_count": 2,
   "metadata": {},
   "outputs": [],
   "source": [
    "import mimetypes\n",
    "import os"
   ]
  },
  {
   "cell_type": "code",
   "execution_count": 5,
   "metadata": {},
   "outputs": [
    {
     "name": "stdout",
     "output_type": "stream",
     "text": [
      "CS305.png : image/png\n",
      "donghua.js : application/javascript\n",
      "iconfont.css : text/css\n",
      "paomo.mp4 : video/mp4\n",
      "print.txt : text/plain\n",
      "qikan.jpg : image/jpeg\n",
      "tongniu.jpg : image/jpeg\n",
      "welcome.MP3 : audio/mpeg\n"
     ]
    }
   ],
   "source": [
    "for file_name in os.listdir(\".\"):\n",
    "    mime_type, _ = mimetypes.guess_type(file_name)\n",
    "    if mime_type:\n",
    "        print(f\"{file_name} : {mime_type}\")"
   ]
  }
 ],
 "metadata": {
  "kernelspec": {
   "display_name": "CS305-CN",
   "language": "python",
   "name": "python3"
  },
  "language_info": {
   "codemirror_mode": {
    "name": "ipython",
    "version": 3
   },
   "file_extension": ".py",
   "mimetype": "text/x-python",
   "name": "python",
   "nbconvert_exporter": "python",
   "pygments_lexer": "ipython3",
   "version": "3.8.18"
  },
  "orig_nbformat": 4
 },
 "nbformat": 4,
 "nbformat_minor": 2
}
