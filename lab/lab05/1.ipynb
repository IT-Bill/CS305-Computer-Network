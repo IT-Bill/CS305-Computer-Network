{
 "cells": [
  {
   "cell_type": "code",
   "execution_count": 25,
   "metadata": {},
   "outputs": [
    {
     "name": "stdout",
     "output_type": "stream",
     "text": [
      "RdataType.A\n",
      "Answer: sustech.edu.cn.\n",
      "Answer: 172.18.1.3\n",
      "Answer from authoritative name server.\n",
      "\n",
      "RdataType.AAAA\n",
      "Answer: sustech.edu.cn.\n",
      "Answer: 2001:da8:201d::42:3\n",
      "Answer from authoritative name server.\n",
      "\n",
      "RdataType.CNAME\n",
      "Answer: sustech.edu.cn.\n",
      "Answer from authoritative name server.\n",
      "\n",
      "RdataType.NS\n",
      "Answer: sustech.edu.cn.\n",
      "Answer: ns2.sustech.edu.cn.\n",
      "Answer: ns1.sustech.edu.cn.\n",
      "Answer not from authoritative name server.\n",
      "\n",
      "RdataType.MX\n",
      "Answer: sustech.edu.cn.\n",
      "Answer: 5 mxbiz1.qq.com.\n",
      "Answer: 10 mxbiz2.qq.com.\n",
      "Answer from authoritative name server.\n",
      "\n"
     ]
    }
   ],
   "source": [
    "import dns.query\n",
    "import dns.resolver\n",
    "from dns.message import make_query\n",
    "from dns.rdatatype import A, AAAA, CNAME, NS, MX\n",
    "\n",
    "def dns_client(query_name, query_type):\n",
    "    # Initialize a resolver\n",
    "    resolver = dns.resolver.Resolver()\n",
    "    resolver.lifetime = 5.0\n",
    "    \n",
    "    # Create a DNS query\n",
    "    q = make_query(query_name, query_type)\n",
    "    \n",
    "    try:\n",
    "        # Send the query\n",
    "        response = dns.query.udp(q, resolver.nameservers[0])\n",
    "        \n",
    "        # Check the response\n",
    "        if response.rcode() == dns.rcode.NOERROR:\n",
    "            # Display the answer section\n",
    "            for rrset in response.answer:\n",
    "                for rr in rrset:\n",
    "                    print(f'Answer: {rr}')\n",
    "                \n",
    "            # Check if the answer is from an authoritative name server\n",
    "            # print(response.authority)\n",
    "            if response.authority:\n",
    "                print(\"Answer from authoritative name server.\")\n",
    "            else:\n",
    "                print(\"Answer not from authoritative name server.\")\n",
    "        else:\n",
    "            print(f\"Response error: {dns.rcode.to_text(response.rcode())}\")\n",
    "    except dns.exception.Timeout:\n",
    "        print(\"Query timeout.\")\n",
    "\n",
    "# Example usage\n",
    "query_name = \"www.sustech.edu.cn\"\n",
    "# rd_flag = 1  # Change to 0 for iterative query without RD flag\n",
    "for query_type in [A, AAAA, CNAME, NS, MX]:\n",
    "    print(query_type)\n",
    "    dns_client(query_name, query_type)\n",
    "    print()\n"
   ]
  },
  {
   "cell_type": "code",
   "execution_count": 23,
   "metadata": {},
   "outputs": [
    {
     "name": "stdout",
     "output_type": "stream",
     "text": [
      "Response with RD=0:\n",
      "id 9966\n",
      "opcode QUERY\n",
      "rcode NXDOMAIN\n",
      "flags QR RA\n",
      ";QUESTION\n",
      "www.sustech.edu.com. IN A\n",
      ";ANSWER\n",
      ";AUTHORITY\n",
      "edu.com. 585 IN SOA ns37.domaincontrol.com. dns.jomax.net. 2023091401 28800 7200 604800 600\n",
      ";ADDITIONAL\n",
      "\n",
      "Response with RD=1:\n",
      "id 65346\n",
      "opcode QUERY\n",
      "rcode NXDOMAIN\n",
      "flags QR RD RA\n",
      ";QUESTION\n",
      "www.sustech.edu.com. IN A\n",
      ";ANSWER\n",
      ";AUTHORITY\n",
      "edu.com. 594 IN SOA ns37.domaincontrol.com. dns.jomax.net. 2023091401 28800 7200 604800 600\n",
      ";ADDITIONAL\n"
     ]
    }
   ],
   "source": [
    "import dns.query\n",
    "import dns.message\n",
    "\n",
    "# Create a DNS query message with 'RD' set to 0\n",
    "query_rd_0 = dns.message.make_query(\"www.sustech.edu.com\", dns.rdatatype.A)\n",
    "query_rd_0.flags &= ~dns.flags.RD\n",
    "\n",
    "# Create a DNS query message with 'RD' set to 1\n",
    "query_rd_1 = dns.message.make_query(\"www.sustech.edu.com\", dns.rdatatype.A)\n",
    "\n",
    "# Send the queries\n",
    "response_rd_0 = dns.query.udp(query_rd_0, \"8.8.8.8\")\n",
    "response_rd_1 = dns.query.udp(query_rd_1, \"8.8.8.8\")\n",
    "\n",
    "# Print the responses\n",
    "print(\"Response with RD=0:\")\n",
    "print(response_rd_0)\n",
    "\n",
    "print()\n",
    "print(\"Response with RD=1:\")\n",
    "print(response_rd_1)\n"
   ]
  }
 ],
 "metadata": {
  "kernelspec": {
   "display_name": "CS305-CN",
   "language": "python",
   "name": "python3"
  },
  "language_info": {
   "codemirror_mode": {
    "name": "ipython",
    "version": 3
   },
   "file_extension": ".py",
   "mimetype": "text/x-python",
   "name": "python",
   "nbconvert_exporter": "python",
   "pygments_lexer": "ipython3",
   "version": "3.8.18"
  }
 },
 "nbformat": 4,
 "nbformat_minor": 2
}
