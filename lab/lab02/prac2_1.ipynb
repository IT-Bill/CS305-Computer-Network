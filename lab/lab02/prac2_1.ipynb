{
 "cells": [
  {
   "cell_type": "code",
   "execution_count": 5,
   "metadata": {},
   "outputs": [],
   "source": [
    "def generate(n):\n",
    "    num = 2023\n",
    "    new_digit = None\n",
    "    for i in range(n):\n",
    "        new_digit = ((num % 10) * ((num // 10) % 10)) % 10\n",
    "        num = num * 10 + new_digit\n",
    "    \n",
    "    return new_digit"
   ]
  },
  {
   "cell_type": "code",
   "execution_count": 9,
   "metadata": {},
   "outputs": [
    {
     "name": "stdout",
     "output_type": "stream",
     "text": [
      "688428688428688428688428688428688428688"
     ]
    }
   ],
   "source": [
    "for i in range(1, 40):\n",
    "    print(generate(i), end=\"\")"
   ]
  }
 ],
 "metadata": {
  "kernelspec": {
   "display_name": "CS305-CN",
   "language": "python",
   "name": "python3"
  },
  "language_info": {
   "codemirror_mode": {
    "name": "ipython",
    "version": 3
   },
   "file_extension": ".py",
   "mimetype": "text/x-python",
   "name": "python",
   "nbconvert_exporter": "python",
   "pygments_lexer": "ipython3",
   "version": "3.8.18"
  },
  "orig_nbformat": 4
 },
 "nbformat": 4,
 "nbformat_minor": 2
}
